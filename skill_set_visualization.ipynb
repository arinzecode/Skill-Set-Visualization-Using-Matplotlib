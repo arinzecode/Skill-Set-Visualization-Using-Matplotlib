{
 "cells": [
  {
   "cell_type": "code",
   "execution_count": 1,
   "id": "d34fb159",
   "metadata": {},
   "outputs": [],
   "source": [
    "import numpy as np\n",
    "import pandas as pd\n",
    "import matplotlib\n",
    "import matplotlib.pyplot as plt \n",
    "import seaborn as sns \n",
    "%matplotlib inline\n",
    "\n",
    "sns.set_style('darkgrid')\n",
    "\n",
    "matplotlib.rcParams['font.size'] = 14\n",
    "matplotlib.rcParams['figure.figsize'] = (9,5)\n",
    "matplotlib.rcParams['figure.facecolor'] = '#00000000'"
   ]
  },
  {
   "cell_type": "markdown",
   "id": "2eafed10",
   "metadata": {},
   "source": [
    "### Option 1\n",
    "Let's say you have the data in a spreadsheet."
   ]
  },
  {
   "cell_type": "code",
   "execution_count": 16,
   "id": "7604c426",
   "metadata": {},
   "outputs": [],
   "source": [
    "#import csv file assign to a variable\n",
    "skills_df = pd.read_csv(\"skills.csv\")"
   ]
  },
  {
   "cell_type": "code",
   "execution_count": 17,
   "id": "704adddb",
   "metadata": {},
   "outputs": [
    {
     "data": {
      "text/html": [
       "<div>\n",
       "<style scoped>\n",
       "    .dataframe tbody tr th:only-of-type {\n",
       "        vertical-align: middle;\n",
       "    }\n",
       "\n",
       "    .dataframe tbody tr th {\n",
       "        vertical-align: top;\n",
       "    }\n",
       "\n",
       "    .dataframe thead th {\n",
       "        text-align: right;\n",
       "    }\n",
       "</style>\n",
       "<table border=\"1\" class=\"dataframe\">\n",
       "  <thead>\n",
       "    <tr style=\"text-align: right;\">\n",
       "      <th></th>\n",
       "      <th>language</th>\n",
       "      <th>percentage</th>\n",
       "      <th>year</th>\n",
       "    </tr>\n",
       "  </thead>\n",
       "  <tbody>\n",
       "    <tr>\n",
       "      <th>0</th>\n",
       "      <td>Python</td>\n",
       "      <td>70</td>\n",
       "      <td>2020</td>\n",
       "    </tr>\n",
       "    <tr>\n",
       "      <th>1</th>\n",
       "      <td>Mysql</td>\n",
       "      <td>87</td>\n",
       "      <td>2019</td>\n",
       "    </tr>\n",
       "    <tr>\n",
       "      <th>2</th>\n",
       "      <td>HTML</td>\n",
       "      <td>85</td>\n",
       "      <td>2021</td>\n",
       "    </tr>\n",
       "    <tr>\n",
       "      <th>3</th>\n",
       "      <td>CSS</td>\n",
       "      <td>75</td>\n",
       "      <td>2021</td>\n",
       "    </tr>\n",
       "    <tr>\n",
       "      <th>4</th>\n",
       "      <td>Excel</td>\n",
       "      <td>85</td>\n",
       "      <td>2004</td>\n",
       "    </tr>\n",
       "    <tr>\n",
       "      <th>5</th>\n",
       "      <td>Matplotlib</td>\n",
       "      <td>75</td>\n",
       "      <td>2021</td>\n",
       "    </tr>\n",
       "    <tr>\n",
       "      <th>6</th>\n",
       "      <td>Pandas</td>\n",
       "      <td>75</td>\n",
       "      <td>2021</td>\n",
       "    </tr>\n",
       "    <tr>\n",
       "      <th>7</th>\n",
       "      <td>Seaborn</td>\n",
       "      <td>75</td>\n",
       "      <td>2021</td>\n",
       "    </tr>\n",
       "    <tr>\n",
       "      <th>8</th>\n",
       "      <td>Tableau</td>\n",
       "      <td>70</td>\n",
       "      <td>2019</td>\n",
       "    </tr>\n",
       "  </tbody>\n",
       "</table>\n",
       "</div>"
      ],
      "text/plain": [
       "     language  percentage  year\n",
       "0      Python          70  2020\n",
       "1       Mysql          87  2019\n",
       "2        HTML          85  2021\n",
       "3         CSS          75  2021\n",
       "4       Excel          85  2004\n",
       "5  Matplotlib          75  2021\n",
       "6      Pandas          75  2021\n",
       "7     Seaborn          75  2021\n",
       "8     Tableau          70  2019"
      ]
     },
     "execution_count": 17,
     "metadata": {},
     "output_type": "execute_result"
    }
   ],
   "source": [
    "skills_df"
   ]
  },
  {
   "cell_type": "code",
   "execution_count": 19,
   "id": "4d26ad3b",
   "metadata": {},
   "outputs": [],
   "source": [
    "# the dataset comes witha default index 0-8. we reassign the index to language column\n",
    "skills_df.set_index('language', inplace=True)"
   ]
  },
  {
   "cell_type": "code",
   "execution_count": 24,
   "id": "2e9857e0",
   "metadata": {},
   "outputs": [
    {
     "data": {
      "image/png": "[encoded data removed]",
      "text/plain": [
       "<Figure size 648x432 with 1 Axes>"
      ]
     },
     "metadata": {},
     "output_type": "display_data"
    }
   ],
   "source": [
    "# set some parameters and visualize our data\n",
    "\n",
    "plt.figure(figsize=(9,6))\n",
    "plt.title('Skill Set')\n",
    "plt.xlabel('Percentage %')\n",
    "plt.xticks(rotation=75)\n",
    "sns.set_style('darkgrid')\n",
    "sns.barplot(x=skills_df.index, y=skills_df.percentage);"
   ]
  },
  {
   "cell_type": "markdown",
   "id": "c1513453",
   "metadata": {},
   "source": [
    "### Option 2\n",
    "We create a numpy array"
   ]
  },
  {
   "cell_type": "code",
   "execution_count": 22,
   "id": "86dd3d18",
   "metadata": {},
   "outputs": [
    {
     "data": {
      "text/plain": [
       "array([70., 87., 85., 70., 85., 75., 77., 75., 79.])"
      ]
     },
     "execution_count": 22,
     "metadata": {},
     "output_type": "execute_result"
    }
   ],
   "source": [
    "language = np.array(['Python', 'MySql', 'HTML', 'CSS', 'Excel', 'Matplotlib', 'Pandas', 'Seaborn', 'Tableau'])\n",
    "fraction = np.array([0.70, 0.87, 0.85, 0.70, 0.85, 0.75, 0.77, 0.75, 0.79])\n",
    "percentage = fraction * 100\n",
    "percentage"
   ]
  },
  {
   "cell_type": "code",
   "execution_count": 10,
   "id": "1390637d",
   "metadata": {},
   "outputs": [
    {
     "data": {
      "image/png": "[encoded data removed]",
      "text/plain": [
       "<Figure size 648x432 with 1 Axes>"
      ]
     },
     "metadata": {
      "needs_background": "light"
     },
     "output_type": "display_data"
    }
   ],
   "source": [
    "plt.figure(figsize=(9,6))\n",
    "plt.title('Skill Set')\n",
    "plt.xlabel('% Percentage')\n",
    "sns.set_style('darkgrid')\n",
    "sns.barplot(x=percentage, y=language);"
   ]
  },
  {
   "cell_type": "code",
   "execution_count": null,
   "id": "f7b5ef08",
   "metadata": {},
   "outputs": [],
   "source": []
  }
 ],
 "metadata": {
  "kernelspec": {
   "display_name": "Python 3 (ipykernel)",
   "language": "python",
   "name": "python3"
  },
  "language_info": {
   "codemirror_mode": {
    "name": "ipython",
    "version": 3
   },
   "file_extension": ".py",
   "mimetype": "text/x-python",
   "name": "python",
   "nbconvert_exporter": "python",
   "pygments_lexer": "ipython3",
   "version": "3.9.7"
  }
 },
 "nbformat": 4,
 "nbformat_minor": 5
}
